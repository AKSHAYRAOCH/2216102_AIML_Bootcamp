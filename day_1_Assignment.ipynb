{
  "nbformat": 4,
  "nbformat_minor": 0,
  "metadata": {
    "colab": {
      "name": "day_1_Assignment.ipynb",
      "provenance": [],
      "collapsed_sections": [],
      "authorship_tag": "ABX9TyMNdD3Karul8hTQVnaxH1V+",
      "include_colab_link": true
    },
    "kernelspec": {
      "name": "python3",
      "display_name": "Python 3"
    },
    "language_info": {
      "name": "python"
    }
  },
  "cells": [
    {
      "cell_type": "markdown",
      "metadata": {
        "id": "view-in-github",
        "colab_type": "text"
      },
      "source": [
        "<a href=\"https://colab.research.google.com/github/AKSHAYRAOCH/2216102_AIML_Bootcamp/blob/main/day_1_Assignment.ipynb\" target=\"_parent\"><img src=\"https://colab.research.google.com/assets/colab-badge.svg\" alt=\"Open In Colab\"/></a>"
      ]
    },
    {
      "cell_type": "markdown",
      "source": [
        "### 1. Implement the methods of String with examples."
      ],
      "metadata": {
        "id": "lI6OA3uPTE2U"
      }
    },
    {
      "cell_type": "code",
      "source": [
        "sstring=\"    mY namE iS akshaY    \" # this is a sample string on which we will perform some operations\n",
        "\n",
        "#string methods\n",
        "\n",
        "print(sstring.upper())# converts the whole string into uppercase\n",
        "print(sstring.lower())#converts the whole string to lowercase\n",
        "print(sstring.swapcase())#converts the cases of each alphabet from upper to lower and vice versa\n",
        "print(sstring.title())#converts the first alphabet of every word to uppercase\n",
        "print(sstring.capitalize())#converts the first word's starting alphabet into uppercase and the remaining words to lowercase\n",
        "print(sstring.strip())#removes the space characters from the front and the back\n",
        "print(sstring.lstrip())#removes the space on the left side\n",
        "print(sstring.rstrip())#removes the space from the right size"
      ],
      "metadata": {
        "colab": {
          "base_uri": "https://localhost:8080/"
        },
        "id": "CiZdN13WTKK8",
        "outputId": "0b45fe5a-809f-4adb-9979-377f37831a90"
      },
      "execution_count": 10,
      "outputs": [
        {
          "output_type": "stream",
          "name": "stdout",
          "text": [
            "    MY NAME IS AKSHAY    \n",
            "    my name is akshay    \n",
            "    My NAMe Is AKSHAy    \n",
            "    My Name Is Akshay    \n",
            "    my name is akshay    \n",
            "mY namE iS akshaY\n",
            "mY namE iS akshaY    \n",
            "    mY namE iS akshaY\n"
          ]
        }
      ]
    },
    {
      "cell_type": "markdown",
      "source": [
        "### 2. Implement the methods of List with examples."
      ],
      "metadata": {
        "id": "FS_U2Bp9Wyqa"
      }
    },
    {
      "cell_type": "code",
      "source": [
        "#LIST\n",
        "llist=[1,2,3,4,'a','k',\"akshay\"]\n",
        "\n",
        "#list methods\n",
        "llist.append(4)#adds an element at the end of the list\n",
        "print(llist)\n",
        "\n",
        "llist.extend([\"rohith\",\"harshith\",\"vijay\"])# adds elements at the end by extending the list\n",
        "print(llist)\n",
        "\n",
        "llist.insert(6,5.0)#inserts the value at a given index added 5.0 at 6th index\n",
        "print(llist)\n",
        "\n",
        "del llist[4]#deletes the value at a given index\n",
        "print(llist)\n",
        "\n",
        "del llist[0:3]#deletes from 0th index to the third\n",
        "print(llist)\n",
        "\n",
        "llist.remove(5.0)#deletes the given element from the list\n",
        "print(llist)\n",
        "\n",
        "llist.pop()#pops the last element from the list\n",
        "print(llist)\n",
        "\n",
        "llist.clear()#clears the whole list of the elements\n",
        "print(llist)\n",
        "\n",
        "list2=[9,7,5,3,6,2,3,5,6,1,4,6,1,0,9]\n",
        "print(list2.count(5))#shows how many times the value 5 is repeated\n",
        "\n",
        "print(len(list2))#shows the no of elements in the list\n",
        "\n",
        "list2.reverse()#reverses the whole list\n",
        "print(list2)\n",
        "\n",
        "list2.sort()#sorts the whole list in ascending order\n",
        "print(list2)"
      ],
      "metadata": {
        "colab": {
          "base_uri": "https://localhost:8080/"
        },
        "id": "SW104CaUW_Vm",
        "outputId": "804379c3-9f9c-4a0c-d5fc-484717b10817"
      },
      "execution_count": 26,
      "outputs": [
        {
          "output_type": "stream",
          "name": "stdout",
          "text": [
            "[1, 2, 3, 4, 'a', 'k', 'akshay', 4]\n",
            "[1, 2, 3, 4, 'a', 'k', 'akshay', 4, 'rohith', 'harshith', 'vijay']\n",
            "[1, 2, 3, 4, 'a', 'k', 5.0, 'akshay', 4, 'rohith', 'harshith', 'vijay']\n",
            "[1, 2, 3, 4, 'k', 5.0, 'akshay', 4, 'rohith', 'harshith', 'vijay']\n",
            "[4, 'k', 5.0, 'akshay', 4, 'rohith', 'harshith', 'vijay']\n",
            "[4, 'k', 'akshay', 4, 'rohith', 'harshith', 'vijay']\n",
            "[4, 'k', 'akshay', 4, 'rohith', 'harshith']\n",
            "[]\n",
            "2\n",
            "15\n",
            "[9, 0, 1, 6, 4, 1, 6, 5, 3, 2, 6, 3, 5, 7, 9]\n",
            "[0, 1, 1, 2, 3, 3, 4, 5, 5, 6, 6, 6, 7, 9, 9]\n"
          ]
        }
      ]
    },
    {
      "cell_type": "markdown",
      "source": [
        ""
      ],
      "metadata": {
        "id": "rCgUb-nqc5I1"
      }
    },
    {
      "cell_type": "markdown",
      "source": [
        "### 3. Implement the methods of Tuple with examples."
      ],
      "metadata": {
        "id": "VsMn45q7dwWU"
      }
    },
    {
      "cell_type": "code",
      "source": [
        "tupple1=(2,54,21,2,3.0)\n",
        "\n",
        "\n",
        "#tupple methods\n",
        "print(tupple1.count(2))#shows the count of a given value\n",
        "\n",
        "print(tupple1.index(3.0))#shows the index of a given value\n",
        "\n",
        "print(max(tupple1))#prints the maximum value in the tupple\n",
        "\n",
        "print(min(tupple1))#prints the minimum value in the tuple\n",
        "\n",
        "print(len(tupple1))#prints the length of the given tupple\n"
      ],
      "metadata": {
        "colab": {
          "base_uri": "https://localhost:8080/"
        },
        "id": "S_n08iUgdtlV",
        "outputId": "4a4159ae-b313-4dfe-a8e4-4851634827e0"
      },
      "execution_count": 30,
      "outputs": [
        {
          "output_type": "stream",
          "name": "stdout",
          "text": [
            "2\n",
            "4\n",
            "54\n",
            "2\n",
            "5\n"
          ]
        }
      ]
    },
    {
      "cell_type": "markdown",
      "source": [
        "### 4. Implement the methods of Dictionary with examples.\n"
      ],
      "metadata": {
        "id": "T60AmGgOfUeA"
      }
    },
    {
      "cell_type": "code",
      "source": [
        "dicto={'name':'akshay','pinno':2103152101,'city':'peddapalli','phone':'oneplus'}\n",
        "\n",
        "#dictionary methods\n",
        "print(dicto['name'])#prints the value for the key 'akshay'\n",
        "\n",
        "print(dicto.keys())#prints the all the keys of the dictionary dicto\n",
        "\n",
        "print(dicto.values())#prints all the values of the dictionary dicto\n",
        "print(dicto.get('phone'))#prints the value of the key 'phone'"
      ],
      "metadata": {
        "colab": {
          "base_uri": "https://localhost:8080/"
        },
        "id": "-75xlSI7fWqu",
        "outputId": "009616ff-288e-4675-d4d2-9b5d6df2ca9e"
      },
      "execution_count": 34,
      "outputs": [
        {
          "output_type": "stream",
          "name": "stdout",
          "text": [
            "akshay\n",
            "dict_keys(['name', 'pinno', 'city', 'phone'])\n",
            "dict_values(['akshay', 2103152101, 'peddapalli', 'oneplus'])\n",
            "oneplus\n"
          ]
        }
      ]
    },
    {
      "cell_type": "markdown",
      "source": [
        "### 5. Implement the methods of Set with examples.\n"
      ],
      "metadata": {
        "id": "O9QE-LerhsOl"
      }
    },
    {
      "cell_type": "code",
      "source": [
        "# set of letters\n",
        "set1 = {'g', 'e', 'k', 's'}\n",
        "\n",
        "# adding 'f'\n",
        "set1.add('f')\n",
        "print(set1)\n",
        "\n",
        "# Discarding element from the set\n",
        "set1.discard('g')\n",
        "print(set1)\n",
        "\n",
        "# Removing element from the set\n",
        "set1.remove('e')\n",
        "print(set1)\n",
        "\n",
        "# Popping elements from the set\n",
        "print(set1.pop())#prints the popped element\n",
        "\n",
        "set1.clear()\n",
        "print(set1)\n"
      ],
      "metadata": {
        "colab": {
          "base_uri": "https://localhost:8080/"
        },
        "id": "_yL0Vb_JhudF",
        "outputId": "ea624c2a-de97-4cc7-8e18-d55029903f6f"
      },
      "execution_count": 35,
      "outputs": [
        {
          "output_type": "stream",
          "name": "stdout",
          "text": [
            "{'g', 'e', 'f', 's', 'k'}\n",
            "{'e', 'f', 's', 'k'}\n",
            "{'f', 's', 'k'}\n",
            "\n",
            "Popped element f\n",
            "{'s', 'k'}\n",
            "set()\n"
          ]
        }
      ]
    },
    {
      "cell_type": "markdown",
      "source": [
        "### 6. Write a python program to convert Decimal to Binary, Octal and Hexadecimal with direct method."
      ],
      "metadata": {
        "id": "BcJ1ecAkjmau"
      }
    },
    {
      "cell_type": "code",
      "source": [
        "decNum =128 #decimal to binary\n",
        "print(bin(decNum)[2:])\n",
        " \n",
        "print(oct(decNum))#decimal to octal\n",
        "\n",
        "print(hex(decNum))#decimal to hexadecimal"
      ],
      "metadata": {
        "colab": {
          "base_uri": "https://localhost:8080/"
        },
        "id": "dqQU7xEcjsCW",
        "outputId": "6b1d5615-eecf-4b74-9aaa-97befbbee033"
      },
      "execution_count": 43,
      "outputs": [
        {
          "output_type": "stream",
          "name": "stdout",
          "text": [
            "10000000\n",
            "0o200\n",
            "0x80\n"
          ]
        }
      ]
    },
    {
      "cell_type": "markdown",
      "source": [
        "### 7. Implement Arithmetic operators with examples"
      ],
      "metadata": {
        "id": "UxFjsQrXlLIk"
      }
    },
    {
      "cell_type": "code",
      "source": [
        "val1 = 2\n",
        "val2 = 3\n",
        "\n",
        "# using the addition operator\n",
        "res = val1 + val2\n",
        "print(res)\n",
        "\n",
        "val1 = 2\n",
        "val2 = 3\n",
        "\n",
        "# using the subtraction operator\n",
        "res = val1 - val2\n",
        "print(res)\n",
        "\n",
        "\n",
        "val1 = 2\n",
        "val2 = 3\n",
        "\n",
        "# using the multiplication operator\n",
        "res = val1 * val2\n",
        "print(res)\n",
        "\n",
        "\n",
        "val1 = 3\n",
        "val2 = 2\n",
        "\n",
        "# using the division operator\n",
        "res = val1 / val2\n",
        "print(res)\n",
        "\n",
        "\n",
        "val1 = 3\n",
        "val2 = 2\n",
        "\n",
        "# using the modulus operator\n",
        "res = val1 % val2\n",
        "print(res)\n",
        "\n",
        "val1 = 2\n",
        "val2 = 3\n",
        "\n",
        "# using the exponentiation operator\n",
        "res = val1 ** val2\n",
        "print(res)\n",
        "\n",
        "val1 = 3\n",
        "val2 = 2\n",
        "\n",
        "# using the floor division\n",
        "res = val1 // val2\n",
        "print(res)\n"
      ],
      "metadata": {
        "colab": {
          "base_uri": "https://localhost:8080/"
        },
        "id": "Hqz8XFFblMla",
        "outputId": "8e95f61f-b9cc-46c3-d2e6-59aab5dbbeb9"
      },
      "execution_count": 44,
      "outputs": [
        {
          "output_type": "stream",
          "name": "stdout",
          "text": [
            "5\n",
            "-1\n",
            "6\n",
            "1.5\n",
            "1\n",
            "8\n",
            "1\n"
          ]
        }
      ]
    },
    {
      "cell_type": "markdown",
      "source": [
        "### 8. Implement Assignment operators with examples"
      ],
      "metadata": {
        "id": "TtHO5Wy0lczF"
      }
    },
    {
      "cell_type": "code",
      "source": [
        "# Assigning values using\n",
        "# Assignment Operator\n",
        "\n",
        "a = 3\n",
        "b = 5\n",
        "\n",
        "c = a + b\n",
        "\n",
        "# Output\n",
        "print(c)\n",
        "\n",
        "\n",
        "a = 3\n",
        "b = 5\n",
        "\n",
        "# a = a + b\n",
        "a += b\n",
        "\n",
        "# Output\n",
        "print(a)\n",
        "\n",
        "\n",
        "a = 3\n",
        "b = 5\n",
        "\n",
        "# a = a - b\n",
        "a -= b\n",
        "\n",
        "# Output\n",
        "print(a)\n",
        "\n",
        "\n",
        "a = 3\n",
        "b = 5\n",
        "\n",
        "# a = a * b\n",
        "a *= b\n",
        "\n",
        "# Output\n",
        "print(a)\n",
        "\n",
        "\n",
        "a = 3\n",
        "b = 5\n",
        "\n",
        "# a = a / b\n",
        "a /= b\n",
        "\n",
        "# Output\n",
        "print(a)\n",
        "\n",
        "\n",
        "a = 3\n",
        "b = 5\n",
        "\n",
        "# a = a % b\n",
        "a %= b\n",
        "\n",
        "# Output\n",
        "print(a)\n"
      ],
      "metadata": {
        "colab": {
          "base_uri": "https://localhost:8080/"
        },
        "id": "HfMjioSEld60",
        "outputId": "0b856ab0-5c11-4739-adb8-d9c03f54b875"
      },
      "execution_count": 45,
      "outputs": [
        {
          "output_type": "stream",
          "name": "stdout",
          "text": [
            "8\n",
            "8\n",
            "-2\n",
            "15\n",
            "0.6\n",
            "3\n"
          ]
        }
      ]
    },
    {
      "cell_type": "markdown",
      "source": [
        "### 9. Implement Comparison operators with examples."
      ],
      "metadata": {
        "id": "ks7drSDfmJgO"
      }
    },
    {
      "cell_type": "code",
      "source": [
        "a = 9\n",
        "b = 5\n",
        "\n",
        "# Output\n",
        "print(a > b)\n",
        "\n",
        "\n",
        "\n",
        "a = 9\n",
        "b = 5\n",
        "\n",
        "# Output\n",
        "print(a < b)\n",
        "\n",
        "\n",
        "a = 9\n",
        "b = 5\n",
        "\n",
        "# Output\n",
        "print(a == b)\n",
        "\n",
        "\n",
        "a = 9\n",
        "b = 5\n",
        "\n",
        "# Output\n",
        "print(a != b)\n",
        "\n",
        "\n",
        "a = 9\n",
        "b = 5\n",
        "\n",
        "# Output\n",
        "print(a >= b)\n",
        "\n",
        "\n",
        "a = 9\n",
        "b = 5\n",
        "\n",
        "# Output\n",
        "print(a <= b)\n",
        "\n"
      ],
      "metadata": {
        "colab": {
          "base_uri": "https://localhost:8080/"
        },
        "id": "goMRt26omLbH",
        "outputId": "d12f6cef-5ab9-47ee-f5e4-3edae29821a1"
      },
      "execution_count": 47,
      "outputs": [
        {
          "output_type": "stream",
          "name": "stdout",
          "text": [
            "True\n",
            "False\n",
            "False\n",
            "True\n",
            "True\n",
            "False\n"
          ]
        }
      ]
    },
    {
      "cell_type": "markdown",
      "source": [
        "### 10. Implement Logical operators with examples."
      ],
      "metadata": {
        "id": "iATHZe3MmqYU"
      }
    },
    {
      "cell_type": "code",
      "source": [
        "x = True\n",
        "y = False\n",
        "\n",
        "print('x and y is',x and y)\n",
        "\n",
        "print('x or y is',x or y)\n",
        "\n",
        "print('not x is',not x)"
      ],
      "metadata": {
        "colab": {
          "base_uri": "https://localhost:8080/"
        },
        "id": "39itL28XmtKZ",
        "outputId": "68e58e2c-6f2e-49a7-aa8b-7b632e91da36"
      },
      "execution_count": 48,
      "outputs": [
        {
          "output_type": "stream",
          "name": "stdout",
          "text": [
            "x and y is False\n",
            "x or y is True\n",
            "not x is False\n"
          ]
        }
      ]
    },
    {
      "cell_type": "markdown",
      "source": [
        "### 11. Implement Bitwise operators with examples."
      ],
      "metadata": {
        "id": "yz4BznyTnOQm"
      }
    },
    {
      "cell_type": "code",
      "source": [
        "\n",
        "# bitwise operators\n",
        "\n",
        "a = 10\n",
        "b = 4\n",
        "\n",
        "# Print bitwise AND operation\n",
        "print(\"a & b =\", a & b)\n",
        "\n",
        "# Print bitwise OR operation\n",
        "print(\"a | b =\", a | b)\n",
        "\n",
        "# Print bitwise NOT operation\n",
        "print(\"~a =\", ~a)\n",
        "\n",
        "# print bitwise XOR operation\n",
        "print(\"a ^ b =\", a ^ b)\n",
        "\n",
        "\n",
        "# shift operators\n",
        "\n",
        "a = 10\n",
        "b = -10\n",
        "\n",
        "# print bitwise right shift operator\n",
        "print(\"a >> 1 =\", a >> 1)\n",
        "print(\"b >> 1 =\", b >> 1)\n",
        "\n",
        "a = 5\n",
        "b = -10\n",
        "\n",
        "# print bitwise left shift operator\n",
        "print(\"a << 1 =\", a << 1)\n",
        "print(\"b << 1 =\", b << 1)\n"
      ],
      "metadata": {
        "colab": {
          "base_uri": "https://localhost:8080/"
        },
        "id": "JtOD8XXBnSi6",
        "outputId": "da5eb7a3-1d50-4ae3-b609-e3070d07c65d"
      },
      "execution_count": 49,
      "outputs": [
        {
          "output_type": "stream",
          "name": "stdout",
          "text": [
            "a & b = 0\n",
            "a | b = 14\n",
            "~a = -11\n",
            "a ^ b = 14\n",
            "a >> 1 = 5\n",
            "b >> 1 = -5\n",
            "a << 1 = 10\n",
            "b << 1 = -20\n"
          ]
        }
      ]
    },
    {
      "cell_type": "markdown",
      "source": [
        "### 12. Implement Membership operators with examples"
      ],
      "metadata": {
        "id": "lxdx1y3EoZEV"
      }
    },
    {
      "cell_type": "code",
      "source": [
        "x = 'Hello world'\n",
        "y = {1:'a',2:'b'}\n",
        "\n",
        "# Output: True\n",
        "print('H' in x)\n",
        "\n",
        "# Output: True\n",
        "print('hello' not in x)\n",
        "\n",
        "# Output: True\n",
        "print(1 in y)\n",
        "\n",
        "# Output: False\n",
        "print('a' in y)"
      ],
      "metadata": {
        "colab": {
          "base_uri": "https://localhost:8080/"
        },
        "id": "PzYmJdktoMmT",
        "outputId": "125e9411-7717-4674-a92f-c8e10d9a6912"
      },
      "execution_count": 50,
      "outputs": [
        {
          "output_type": "stream",
          "name": "stdout",
          "text": [
            "True\n",
            "True\n",
            "True\n",
            "False\n"
          ]
        }
      ]
    },
    {
      "cell_type": "markdown",
      "source": [
        "###13. Implement Identity operators with examples\n"
      ],
      "metadata": {
        "id": "MkoR8wgQoyjM"
      }
    },
    {
      "cell_type": "code",
      "source": [
        "x1 = 5\n",
        "y1 = 5\n",
        "x2 = 'Hello'\n",
        "y2 = 'Hello'\n",
        "x3 = [1,2,3]\n",
        "y3 = [1,2,3]\n",
        "\n",
        "# Output: False\n",
        "print(x1 is not y1)\n",
        "\n",
        "# Output: True\n",
        "print(x2 is y2)\n",
        "\n",
        "# Output: False\n",
        "print(x3 is y3)"
      ],
      "metadata": {
        "colab": {
          "base_uri": "https://localhost:8080/"
        },
        "id": "QQvNaDOZo4fX",
        "outputId": "d3c08475-2bc0-4adb-83c4-9d5fda23d2e7"
      },
      "execution_count": 51,
      "outputs": [
        {
          "output_type": "stream",
          "name": "stdout",
          "text": [
            "False\n",
            "True\n",
            "False\n"
          ]
        }
      ]
    },
    {
      "cell_type": "markdown",
      "source": [
        "### 14. Demonstrate Negative indexing for List and apply slicing."
      ],
      "metadata": {
        "id": "itz-JPjIpATJ"
      }
    },
    {
      "cell_type": "code",
      "source": [
        "Lst = [50, 70, 30, 20, 90, 10, 50]\n",
        "\n",
        "#negative indexing\n",
        "print(Lst[-2])\n",
        "\n",
        "#slicing\n",
        "print(Lst[1:5])\n"
      ],
      "metadata": {
        "colab": {
          "base_uri": "https://localhost:8080/"
        },
        "id": "CvWcpwkQpCNg",
        "outputId": "9885e0e4-9fcb-4572-cfe7-ddf7de1c5346"
      },
      "execution_count": 55,
      "outputs": [
        {
          "output_type": "stream",
          "name": "stdout",
          "text": [
            "10\n",
            "[70, 30, 20, 90]\n"
          ]
        }
      ]
    },
    {
      "cell_type": "markdown",
      "source": [
        "![image.png](data:image/png;base64,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)"
      ],
      "metadata": {
        "id": "7Y3o4MvnqQ1n"
      }
    },
    {
      "cell_type": "code",
      "source": [
        "print('A series of characters designated as one object known as a string'[::-1][4::3])# first the string will get reversed and then for\n",
        "#[4::3] starting from the 4th index at every 3rd step will be printed untill the end\n",
        "\n",
        "\n",
        "print(\"-----------\")#this will just print all the '-' values given in the string\n",
        "\n",
        "print('Welcome to Python training program'[3:10][::-1])# first [3:10] gives answer \"come to\" so it reverses\n",
        "# the answer using [::-1] and gives \"ot emoc"
      ],
      "metadata": {
        "colab": {
          "base_uri": "https://localhost:8080/"
        },
        "id": "tjrbAmTrqaf2",
        "outputId": "23875bc5-6f32-45b3-fe6c-0450c8e2fb4e"
      },
      "execution_count": 69,
      "outputs": [
        {
          "output_type": "stream",
          "name": "stdout",
          "text": [
            "taawkcbe  tgestrcoeeA\n",
            "-----------\n",
            "ot emoc\n"
          ]
        }
      ]
    },
    {
      "cell_type": "markdown",
      "source": [
        "![image.png](data:image/png;base64,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)"
      ],
      "metadata": {
        "id": "BmDAV6LUua2m"
      }
    },
    {
      "cell_type": "code",
      "source": [
        "p_phrase=\"was it a car or a cat I saw\" [::-1]\n",
        "print(p_phrase.upper())"
      ],
      "metadata": {
        "colab": {
          "base_uri": "https://localhost:8080/"
        },
        "id": "-Zjr3Vw6udjl",
        "outputId": "7580d7f2-1409-419e-fa2a-410d61416d2c"
      },
      "execution_count": 74,
      "outputs": [
        {
          "output_type": "stream",
          "name": "stdout",
          "text": [
            "WAS I TAC A RO RAC A TI SAW\n"
          ]
        }
      ]
    },
    {
      "cell_type": "markdown",
      "source": [
        "### 17. You are required to generate a word similar to ZOO, X and Y that denote the number of Zs and Os respectively. The generated word similar to ZOO where Y= 2 * X. Input X= 2 Output ZZOOOO Input X= 5 Output ZZZZZOOOOOOOOOO"
      ],
      "metadata": {
        "id": "I6Z2QOxeu97s"
      }
    },
    {
      "cell_type": "code",
      "source": [
        "x=input(\"please input value for x:\")\n",
        "x=5\n",
        "y=x*2\n",
        "var1=\"z\"*x\n",
        "var2=\"o\"*y\n",
        "print(var1+var2)"
      ],
      "metadata": {
        "colab": {
          "base_uri": "https://localhost:8080/"
        },
        "id": "9IjnMsUdw-bj",
        "outputId": "c55e5849-8fc7-4e0e-a9d4-63e61087eae6"
      },
      "execution_count": 88,
      "outputs": [
        {
          "output_type": "stream",
          "name": "stdout",
          "text": [
            "please input value for x:5\n",
            "zzzzzoooooooooo\n"
          ]
        }
      ]
    }
  ]
}