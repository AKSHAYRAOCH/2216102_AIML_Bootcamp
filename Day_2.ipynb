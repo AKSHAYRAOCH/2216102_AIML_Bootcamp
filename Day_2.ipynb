{
  "nbformat": 4,
  "nbformat_minor": 0,
  "metadata": {
    "colab": {
      "name": "Untitled4.ipynb",
      "provenance": [],
      "authorship_tag": "ABX9TyNeglJ/DeV/TxmPc+YeCtIS",
      "include_colab_link": true
    },
    "kernelspec": {
      "name": "python3",
      "display_name": "Python 3"
    },
    "language_info": {
      "name": "python"
    }
  },
  "cells": [
    {
      "cell_type": "markdown",
      "metadata": {
        "id": "view-in-github",
        "colab_type": "text"
      },
      "source": [
        "<a href=\"https://colab.research.google.com/github/AKSHAYRAOCH/2216102_AIML_Bootcamp/blob/main/Day_2.ipynb\" target=\"_parent\"><img src=\"https://colab.research.google.com/assets/colab-badge.svg\" alt=\"Open In Colab\"/></a>"
      ]
    },
    {
      "cell_type": "code",
      "execution_count": null,
      "metadata": {
        "colab": {
          "base_uri": "https://localhost:8080/"
        },
        "id": "fBa8zJn1hLk8",
        "outputId": "401f17f9-37a9-4549-a8e2-bddfeb76d005"
      },
      "outputs": [
        {
          "output_type": "stream",
          "name": "stdout",
          "text": [
            "true\n",
            "100\n",
            "false\n",
            "0\n"
          ]
        }
      ],
      "source": [
        "#if statements\n",
        "\n",
        "var=100\n",
        "if var>0:\n",
        "  print(\"true\")\n",
        "  print(var)\n",
        "\n",
        "\n",
        "var1=0\n",
        "if var1>0:\n",
        "  print(\"True\")\n",
        "  print(var1)\n",
        "else:\n",
        "  print(\"false\")\n",
        "  print(var1)"
      ]
    },
    {
      "cell_type": "code",
      "source": [
        "#nested if statements\n",
        "#bus tickets example\n",
        "\n",
        "age=int(input(\"Enter your age\"))\n",
        "if age>12 and age<=18:\n",
        "  if age<18:\n",
        "    print(\"Quarter tickect implies\")\n",
        "  elif age==5:\n",
        "    print(\"quarter ticket + discount\")\n",
        "  else:\n",
        "    print(\"half ticket\")\n",
        "elif age>=19 and age<=60:\n",
        "  print(\"full ticket\")\n",
        "elif age>60:\n",
        "  print(\"Full ticket with discount\")\n",
        "else:\n",
        "  print(\"No Ticket\")"
      ],
      "metadata": {
        "colab": {
          "base_uri": "https://localhost:8080/"
        },
        "id": "sGRZ9cb1ivH-",
        "outputId": "1a36e0dc-827e-4647-f63b-eee5803de8d3"
      },
      "execution_count": null,
      "outputs": [
        {
          "output_type": "stream",
          "name": "stdout",
          "text": [
            "Enter your age55\n",
            "full ticket\n"
          ]
        }
      ]
    },
    {
      "cell_type": "code",
      "source": [
        "# for loop\n",
        "number=[6,6,4,6,4,2,6,7,9,32,12]\n",
        "sum=0\n",
        "for val in number:\n",
        "  sum=sum+val\n",
        "print(sum)\n",
        "\n",
        "for i in range(1,11):\n",
        "  print(i)\n",
        "\n",
        "print(\"\\n\")\n",
        "\n",
        "for i in range(1,11,2):\n",
        "  print(i)\n",
        "x=[2,3,4,5,6,7,8]\n",
        "y=[]\n",
        "for a in x:\n",
        " if a%2==0:\n",
        "   y.append(a)\n",
        "print(y)\n",
        "\n",
        "\n",
        "#using statements in for loop\n",
        "digits=[0,1,5]\n",
        "for i in digits:\n",
        "  print(i)\n",
        "else:\n",
        "  print(\"no items left\")\n",
        "print(\"\\n\")\n",
        "\n",
        "\n",
        "for l in \"python\":\n",
        "  print(\"current letter is \",l)\n",
        "print(\"\\n\")\n",
        "fruit=['apple','banana','grapes']\n",
        "for index in range(len(fruit)):\n",
        "  print('current fruit:',fruit[index])"
      ],
      "metadata": {
        "colab": {
          "base_uri": "https://localhost:8080/"
        },
        "id": "9C8rFSvVlTUI",
        "outputId": "c985b25b-8d98-409e-f778-f25cff2d0e77"
      },
      "execution_count": null,
      "outputs": [
        {
          "output_type": "stream",
          "name": "stdout",
          "text": [
            "94\n",
            "1\n",
            "2\n",
            "3\n",
            "4\n",
            "5\n",
            "6\n",
            "7\n",
            "8\n",
            "9\n",
            "10\n",
            "\n",
            "\n",
            "1\n",
            "3\n",
            "5\n",
            "7\n",
            "9\n",
            "[2, 4, 6, 8]\n",
            "0\n",
            "1\n",
            "5\n",
            "no items left\n",
            "\n",
            "\n",
            "current letter is  p\n",
            "current letter is  y\n",
            "current letter is  t\n",
            "current letter is  h\n",
            "current letter is  o\n",
            "current letter is  n\n",
            "\n",
            "\n",
            "current fruit: apple\n",
            "current fruit: banana\n",
            "current fruit: grapes\n"
          ]
        }
      ]
    },
    {
      "cell_type": "code",
      "source": [
        "#while loop\n",
        "count=0\n",
        "while count<11:\n",
        "  print(\"the count is \", count)\n",
        "  count+=1\n",
        "print(\"\\n\")\n",
        "count=0\n",
        "while count<5:\n",
        "  print(count,\"is less than 5\")\n",
        "  count+=1"
      ],
      "metadata": {
        "colab": {
          "base_uri": "https://localhost:8080/"
        },
        "id": "FT6Dl7cfoarD",
        "outputId": "6b70d50a-fb70-46be-8dca-2c05226b668b"
      },
      "execution_count": null,
      "outputs": [
        {
          "output_type": "stream",
          "name": "stdout",
          "text": [
            "the count is  0\n",
            "the count is  1\n",
            "the count is  2\n",
            "the count is  3\n",
            "the count is  4\n",
            "the count is  5\n",
            "the count is  6\n",
            "the count is  7\n",
            "the count is  8\n",
            "the count is  9\n",
            "the count is  10\n",
            "\n",
            "\n",
            "0 is less than 5\n",
            "1 is less than 5\n",
            "2 is less than 5\n",
            "3 is less than 5\n",
            "4 is less than 5\n"
          ]
        }
      ]
    },
    {
      "cell_type": "code",
      "source": [
        "#matrixes in python\n",
        "x=[[12,13,14],[1,6,2],]"
      ],
      "metadata": {
        "id": "SSVqtmMhvjoG"
      },
      "execution_count": null,
      "outputs": []
    },
    {
      "cell_type": "code",
      "source": [
        "num=int(input(\"enter till which table you want to print\"))\n",
        "i=1\n",
        "while(i<=num):\n",
        "  print(f\"table {i}\")#raw string\n",
        "  j=1\n",
        "  while(j<=10):\n",
        "    print(f\"{i}*{j}={i*j}\")\n",
        "    j=j+1\n",
        "  print(\"-------------------\")\n",
        "  i+=1"
      ],
      "metadata": {
        "colab": {
          "base_uri": "https://localhost:8080/"
        },
        "id": "GjNj1DraurHr",
        "outputId": "4629f1db-1619-4e09-9a34-5dcce3f170cb"
      },
      "execution_count": null,
      "outputs": [
        {
          "output_type": "stream",
          "name": "stdout",
          "text": [
            "enter till which table you want to print5\n",
            "table 1\n",
            "1*1=1\n",
            "1*2=2\n",
            "1*3=3\n",
            "1*4=4\n",
            "1*5=5\n",
            "1*6=6\n",
            "1*7=7\n",
            "1*8=8\n",
            "1*9=9\n",
            "1*10=10\n",
            "-------------------\n",
            "table 2\n",
            "2*1=2\n",
            "2*2=4\n",
            "2*3=6\n",
            "2*4=8\n",
            "2*5=10\n",
            "2*6=12\n",
            "2*7=14\n",
            "2*8=16\n",
            "2*9=18\n",
            "2*10=20\n",
            "-------------------\n",
            "table 3\n",
            "3*1=3\n",
            "3*2=6\n",
            "3*3=9\n",
            "3*4=12\n",
            "3*5=15\n",
            "3*6=18\n",
            "3*7=21\n",
            "3*8=24\n",
            "3*9=27\n",
            "3*10=30\n",
            "-------------------\n",
            "table 4\n",
            "4*1=4\n",
            "4*2=8\n",
            "4*3=12\n",
            "4*4=16\n",
            "4*5=20\n",
            "4*6=24\n",
            "4*7=28\n",
            "4*8=32\n",
            "4*9=36\n",
            "4*10=40\n",
            "-------------------\n",
            "table 5\n",
            "5*1=5\n",
            "5*2=10\n",
            "5*3=15\n",
            "5*4=20\n",
            "5*5=25\n",
            "5*6=30\n",
            "5*7=35\n",
            "5*8=40\n",
            "5*9=45\n",
            "5*10=50\n",
            "-------------------\n"
          ]
        }
      ]
    },
    {
      "cell_type": "code",
      "source": [
        "State_list = ['Delhi','Telangana','Goa','AP','Kerala']\n",
        "str=\"\"\n",
        "for i in State_list:\n",
        "  str+=i[0].lower()+i[-1].upper()\n",
        "print(str) "
      ],
      "metadata": {
        "colab": {
          "base_uri": "https://localhost:8080/"
        },
        "id": "YV-jo3hHE6Lw",
        "outputId": "7fbdd1e1-cc3e-41c0-cf3a-3f2851b9443d"
      },
      "execution_count": null,
      "outputs": [
        {
          "output_type": "stream",
          "name": "stdout",
          "text": [
            "dItAgAaPkA\n"
          ]
        }
      ]
    },
    {
      "cell_type": "code",
      "source": [
        "Ip: [‘apple’,’orange’,’grapes’,’ball’,’bat’,’umbrella’]\n",
        "res=(filter(lambda x:x.startswith('a'),I/P))\n",
        "print(res)"
      ],
      "metadata": {
        "colab": {
          "base_uri": "https://localhost:8080/",
          "height": 131
        },
        "id": "Se3m2h6r89NV",
        "outputId": "d86d3d3e-ce17-40f0-9054-7b1ecbf43ec9"
      },
      "execution_count": null,
      "outputs": [
        {
          "output_type": "error",
          "ename": "SyntaxError",
          "evalue": "ignored",
          "traceback": [
            "\u001b[0;36m  File \u001b[0;32m\"<ipython-input-42-f2c93cfe8ea2>\"\u001b[0;36m, line \u001b[0;32m1\u001b[0m\n\u001b[0;31m    Ip: [‘apple’,’orange’,’grapes’,’ball’,’bat’,’umbrella’]\u001b[0m\n\u001b[0m               ^\u001b[0m\n\u001b[0;31mSyntaxError\u001b[0m\u001b[0;31m:\u001b[0m invalid character in identifier\n"
          ]
        }
      ]
    }
  ]
}